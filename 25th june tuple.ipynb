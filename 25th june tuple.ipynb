{
 "cells": [
  {
   "cell_type": "markdown",
   "id": "045947fd-52b7-42bd-9fde-22129641cfbe",
   "metadata": {},
   "source": [
    "Tuple Creation"
   ]
  },
  {
   "cell_type": "code",
   "execution_count": 1,
   "id": "c1a6f4f9-ef65-4773-ae8f-0fa204e032d4",
   "metadata": {},
   "outputs": [],
   "source": [
    "t1 = () #empty tuple"
   ]
  },
  {
   "cell_type": "code",
   "execution_count": 2,
   "id": "2f4d9d9d-086f-40ac-a3f7-45669370f3ae",
   "metadata": {},
   "outputs": [],
   "source": [
    "t2 = (10, 20, 30) #tuple of integer numbers"
   ]
  },
  {
   "cell_type": "code",
   "execution_count": 3,
   "id": "ac1ab5bf-0ba8-4004-9b39-be118d56e84a",
   "metadata": {},
   "outputs": [],
   "source": [
    "t3 = (100.66,30.77,40.99) #tuple of float"
   ]
  },
  {
   "cell_type": "code",
   "execution_count": 4,
   "id": "5d959223-0dca-478f-ac00-291eca5cdfbc",
   "metadata": {},
   "outputs": [],
   "source": [
    "t4 = ('one','two','three') #tuple of string"
   ]
  },
  {
   "cell_type": "code",
   "execution_count": 5,
   "id": "e54b3b35-c125-4013-b415-670b30e9d6c6",
   "metadata": {},
   "outputs": [],
   "source": [
    "t5 = ('Dinesh',22,(50,100),(140,40)) #Nested tuple"
   ]
  },
  {
   "cell_type": "code",
   "execution_count": 6,
   "id": "72f5b238-c9ec-442b-b667-1109a9e8b819",
   "metadata": {},
   "outputs": [],
   "source": [
    "t6 = (10, 'Dinesh', 6.88) #tuple of mixed data types"
   ]
  },
  {
   "cell_type": "code",
   "execution_count": 7,
   "id": "48354e9c-87a9-47bf-af35-fb6fc7431b4f",
   "metadata": {},
   "outputs": [],
   "source": [
    "t7 =  ('Dinesh', 22,[50,49],[33,99],{'jon', 'snow'},(33,22,11))"
   ]
  },
  {
   "cell_type": "code",
   "execution_count": 8,
   "id": "ce49f7f5-6857-44b6-ab37-fff93c5f2486",
   "metadata": {},
   "outputs": [
    {
     "data": {
      "text/plain": [
       "tuple"
      ]
     },
     "execution_count": 8,
     "metadata": {},
     "output_type": "execute_result"
    }
   ],
   "source": [
    "type(t7)"
   ]
  },
  {
   "cell_type": "markdown",
   "id": "2cef9e95-d2ce-4024-8eb3-6c43c8389c13",
   "metadata": {},
   "source": [
    "tuple indexing"
   ]
  },
  {
   "cell_type": "code",
   "execution_count": 9,
   "id": "2e29f964-95cf-4fe2-9e38-a34a9db73b26",
   "metadata": {},
   "outputs": [
    {
     "data": {
      "text/plain": [
       "10"
      ]
     },
     "execution_count": 9,
     "metadata": {},
     "output_type": "execute_result"
    }
   ],
   "source": [
    "t2[0]"
   ]
  },
  {
   "cell_type": "code",
   "execution_count": 10,
   "id": "1800befa-ba5b-45d8-853c-91e40241b364",
   "metadata": {},
   "outputs": [
    {
     "data": {
      "text/plain": [
       "'one'"
      ]
     },
     "execution_count": 10,
     "metadata": {},
     "output_type": "execute_result"
    }
   ],
   "source": [
    "t4[0]"
   ]
  },
  {
   "cell_type": "code",
   "execution_count": 11,
   "id": "8aba4090-d9d9-4fa8-bb9a-d1ad7d352adc",
   "metadata": {},
   "outputs": [
    {
     "data": {
      "text/plain": [
       "('one', [0])"
      ]
     },
     "execution_count": 11,
     "metadata": {},
     "output_type": "execute_result"
    }
   ],
   "source": [
    "t4[0],[0]"
   ]
  },
  {
   "cell_type": "code",
   "execution_count": 12,
   "id": "62b33a06-6d7d-4713-9037-0cf4755410c1",
   "metadata": {},
   "outputs": [
    {
     "data": {
      "text/plain": [
       "'o'"
      ]
     },
     "execution_count": 12,
     "metadata": {},
     "output_type": "execute_result"
    }
   ],
   "source": [
    "t4[0][0] #Nested indexing - Access the first character of the first tuple element"
   ]
  },
  {
   "cell_type": "code",
   "execution_count": 13,
   "id": "e71cc15c-0477-4113-b007-6014fd1dc96e",
   "metadata": {},
   "outputs": [
    {
     "data": {
      "text/plain": [
       "'three'"
      ]
     },
     "execution_count": 13,
     "metadata": {},
     "output_type": "execute_result"
    }
   ],
   "source": [
    "t4[-1]"
   ]
  },
  {
   "cell_type": "code",
   "execution_count": 14,
   "id": "a842dece-1299-451a-87d9-a8d81643b89f",
   "metadata": {},
   "outputs": [
    {
     "data": {
      "text/plain": [
       "(140, 40)"
      ]
     },
     "execution_count": 14,
     "metadata": {},
     "output_type": "execute_result"
    }
   ],
   "source": [
    "t5[-1]"
   ]
  },
  {
   "cell_type": "markdown",
   "id": "28b3c6d5-86e8-463e-b142-1e9ec8e28920",
   "metadata": {},
   "source": [
    "Tuple slicing"
   ]
  },
  {
   "cell_type": "code",
   "execution_count": 15,
   "id": "e80685bf-f276-4003-8c7f-38451d014367",
   "metadata": {},
   "outputs": [],
   "source": [
    "t = (10,20,30,40,50,60,70)"
   ]
  },
  {
   "cell_type": "code",
   "execution_count": 16,
   "id": "a52ddb40-8c18-426a-8fe1-4ccf04aa9b06",
   "metadata": {},
   "outputs": [
    {
     "data": {
      "text/plain": [
       "(10, 20, 30, 40, 50, 60, 70)"
      ]
     },
     "execution_count": 16,
     "metadata": {},
     "output_type": "execute_result"
    }
   ],
   "source": [
    "t"
   ]
  },
  {
   "cell_type": "code",
   "execution_count": 17,
   "id": "0ff2cc09-4cc6-41b2-b0cf-fff2cd58a804",
   "metadata": {},
   "outputs": [
    {
     "data": {
      "text/plain": [
       "(10, 20, 30, 40, 50, 60, 70)"
      ]
     },
     "execution_count": 17,
     "metadata": {},
     "output_type": "execute_result"
    }
   ],
   "source": [
    "t[0:7] #[start:stop(n-1):step]"
   ]
  },
  {
   "cell_type": "code",
   "execution_count": 18,
   "id": "08054b3e-2138-4494-958d-237ca980dd2b",
   "metadata": {},
   "outputs": [
    {
     "data": {
      "text/plain": [
       "(10, 30, 50, 70)"
      ]
     },
     "execution_count": 18,
     "metadata": {},
     "output_type": "execute_result"
    }
   ],
   "source": [
    "t[0:7:2]"
   ]
  },
  {
   "cell_type": "code",
   "execution_count": 19,
   "id": "8b706c4e-ead2-4c71-83f9-66221e759674",
   "metadata": {},
   "outputs": [
    {
     "data": {
      "text/plain": [
       "(30, 40, 50)"
      ]
     },
     "execution_count": 19,
     "metadata": {},
     "output_type": "execute_result"
    }
   ],
   "source": [
    "t[2:5]"
   ]
  },
  {
   "cell_type": "code",
   "execution_count": 20,
   "id": "9576dbb3-d07d-4572-a1ab-b3d0c5462696",
   "metadata": {},
   "outputs": [
    {
     "data": {
      "text/plain": [
       "(10, 20, 30)"
      ]
     },
     "execution_count": 20,
     "metadata": {},
     "output_type": "execute_result"
    }
   ],
   "source": [
    "t[:3]"
   ]
  },
  {
   "cell_type": "code",
   "execution_count": 21,
   "id": "2a13d876-4e99-4e83-864a-7776e00717f8",
   "metadata": {},
   "outputs": [
    {
     "data": {
      "text/plain": [
       "(10, 30, 50, 70)"
      ]
     },
     "execution_count": 21,
     "metadata": {},
     "output_type": "execute_result"
    }
   ],
   "source": [
    "t[::2]"
   ]
  },
  {
   "cell_type": "code",
   "execution_count": 22,
   "id": "226d3623-a04c-473f-96a5-287a2b51da97",
   "metadata": {},
   "outputs": [
    {
     "data": {
      "text/plain": [
       "(60, 70)"
      ]
     },
     "execution_count": 22,
     "metadata": {},
     "output_type": "execute_result"
    }
   ],
   "source": [
    "t[-2:] #return last two iteams"
   ]
  },
  {
   "cell_type": "code",
   "execution_count": 23,
   "id": "abe23656-cbbe-424f-9ab9-b867f327bef7",
   "metadata": {},
   "outputs": [
    {
     "data": {
      "text/plain": [
       "(10, 20, 30, 40, 50)"
      ]
     },
     "execution_count": 23,
     "metadata": {},
     "output_type": "execute_result"
    }
   ],
   "source": [
    "t[:-2] #[:(-2-1)]"
   ]
  },
  {
   "cell_type": "code",
   "execution_count": 24,
   "id": "2a77268e-a726-4f4b-8f85-bed6e87fb2b8",
   "metadata": {},
   "outputs": [
    {
     "data": {
      "text/plain": [
       "(10, 20, 30, 40, 50, 60, 70)"
      ]
     },
     "execution_count": 24,
     "metadata": {},
     "output_type": "execute_result"
    }
   ],
   "source": [
    "t[:]"
   ]
  },
  {
   "cell_type": "markdown",
   "id": "f4f28f57-8866-433e-a530-cfa77df55488",
   "metadata": {},
   "source": [
    "remove and change items"
   ]
  },
  {
   "cell_type": "code",
   "execution_count": 25,
   "id": "12a479f7-2bee-4d97-a86d-10b0209270ce",
   "metadata": {},
   "outputs": [
    {
     "data": {
      "text/plain": [
       "(10, 20, 30, 40, 50, 60, 70)"
      ]
     },
     "execution_count": 25,
     "metadata": {},
     "output_type": "execute_result"
    }
   ],
   "source": [
    "t"
   ]
  },
  {
   "cell_type": "code",
   "execution_count": 26,
   "id": "03c6821f-13fd-479d-9658-8a030ac44699",
   "metadata": {},
   "outputs": [
    {
     "ename": "TypeError",
     "evalue": "'tuple' object doesn't support item deletion",
     "output_type": "error",
     "traceback": [
      "\u001b[1;31m---------------------------------------------------------------------------\u001b[0m",
      "\u001b[1;31mTypeError\u001b[0m                                 Traceback (most recent call last)",
      "Cell \u001b[1;32mIn[26], line 1\u001b[0m\n\u001b[1;32m----> 1\u001b[0m \u001b[38;5;28;01mdel\u001b[39;00m t[\u001b[38;5;241m0\u001b[39m]\n",
      "\u001b[1;31mTypeError\u001b[0m: 'tuple' object doesn't support item deletion"
     ]
    }
   ],
   "source": [
    "del t[0] #tuples are immutable,which means we can't change iteams"
   ]
  },
  {
   "cell_type": "code",
   "execution_count": 27,
   "id": "5d434539-96e9-4a4b-a932-c76f9ecdbcb8",
   "metadata": {},
   "outputs": [],
   "source": [
    "del t #deleting entire tuple is possible"
   ]
  },
  {
   "cell_type": "code",
   "execution_count": 28,
   "id": "bbce7bd2-c2cb-401b-879d-fdbaef25268d",
   "metadata": {},
   "outputs": [
    {
     "ename": "NameError",
     "evalue": "name 't' is not defined",
     "output_type": "error",
     "traceback": [
      "\u001b[1;31m---------------------------------------------------------------------------\u001b[0m",
      "\u001b[1;31mNameError\u001b[0m                                 Traceback (most recent call last)",
      "Cell \u001b[1;32mIn[28], line 1\u001b[0m\n\u001b[1;32m----> 1\u001b[0m t\n",
      "\u001b[1;31mNameError\u001b[0m: name 't' is not defined"
     ]
    }
   ],
   "source": [
    "t"
   ]
  },
  {
   "cell_type": "code",
   "execution_count": 29,
   "id": "c2bde3f3-67fd-4b1a-a4ec-2edb16420eac",
   "metadata": {},
   "outputs": [],
   "source": [
    "t = (1,2,3,4,5,6,7,8,9,10)"
   ]
  },
  {
   "cell_type": "code",
   "execution_count": 30,
   "id": "966ee833-a0ee-446e-96e1-84af7f86b266",
   "metadata": {},
   "outputs": [
    {
     "data": {
      "text/plain": [
       "(1, 2, 3, 4, 5, 6, 7, 8, 9, 10)"
      ]
     },
     "execution_count": 30,
     "metadata": {},
     "output_type": "execute_result"
    }
   ],
   "source": [
    "t"
   ]
  },
  {
   "cell_type": "markdown",
   "id": "39961d8d-8f0e-4330-89c3-a7a64ee95e58",
   "metadata": {},
   "source": [
    "Loop through a tuple"
   ]
  },
  {
   "cell_type": "code",
   "execution_count": 31,
   "id": "f19abc60-2af4-4084-b68d-e002c2a59184",
   "metadata": {},
   "outputs": [
    {
     "data": {
      "text/plain": [
       "(1, 2, 3, 4, 5, 6, 7, 8, 9, 10)"
      ]
     },
     "execution_count": 31,
     "metadata": {},
     "output_type": "execute_result"
    }
   ],
   "source": [
    "t"
   ]
  },
  {
   "cell_type": "code",
   "execution_count": 32,
   "id": "5d6242a8-ecc0-4ceb-98bd-079d8370d20e",
   "metadata": {},
   "outputs": [
    {
     "name": "stdout",
     "output_type": "stream",
     "text": [
      "1\n",
      "2\n",
      "3\n",
      "4\n",
      "5\n",
      "6\n",
      "7\n",
      "8\n",
      "9\n",
      "10\n"
     ]
    }
   ],
   "source": [
    "for i in t:\n",
    "    print(i)"
   ]
  },
  {
   "cell_type": "code",
   "execution_count": 33,
   "id": "7c1f0d0b-d1c1-4a0a-8166-e2da537a1834",
   "metadata": {},
   "outputs": [
    {
     "name": "stdout",
     "output_type": "stream",
     "text": [
      "(0, 1)\n",
      "(1, 2)\n",
      "(2, 3)\n",
      "(3, 4)\n",
      "(4, 5)\n",
      "(5, 6)\n",
      "(6, 7)\n",
      "(7, 8)\n",
      "(8, 9)\n",
      "(9, 10)\n"
     ]
    }
   ],
   "source": [
    "for i in enumerate(t):\n",
    "    print(i)"
   ]
  },
  {
   "cell_type": "markdown",
   "id": "fb9826e2-3b47-41f5-b00f-62ca9424bca9",
   "metadata": {},
   "source": [
    "Tuple membership"
   ]
  },
  {
   "cell_type": "code",
   "execution_count": 34,
   "id": "37787135-1f81-48bb-8aa9-db1c8354b985",
   "metadata": {},
   "outputs": [
    {
     "data": {
      "text/plain": [
       "(1, 2, 3, 4, 5, 6, 7, 8, 9, 10)"
      ]
     },
     "execution_count": 34,
     "metadata": {},
     "output_type": "execute_result"
    }
   ],
   "source": [
    "t"
   ]
  },
  {
   "cell_type": "code",
   "execution_count": 35,
   "id": "4a3f7712-f472-4100-8de1-6e7ce32d5d91",
   "metadata": {},
   "outputs": [
    {
     "data": {
      "text/plain": [
       "False"
      ]
     },
     "execution_count": 35,
     "metadata": {},
     "output_type": "execute_result"
    }
   ],
   "source": [
    "'1' in t #check if 1 is present in the tuple list"
   ]
  },
  {
   "cell_type": "code",
   "execution_count": 36,
   "id": "5e3e72b0-2ac3-4765-8ff6-a0ac6e80a34b",
   "metadata": {},
   "outputs": [
    {
     "data": {
      "text/plain": [
       "True"
      ]
     },
     "execution_count": 36,
     "metadata": {},
     "output_type": "execute_result"
    }
   ],
   "source": [
    "1 in t"
   ]
  },
  {
   "cell_type": "code",
   "execution_count": 37,
   "id": "928743e6-2d45-45a4-8124-2fbbbbc6a239",
   "metadata": {},
   "outputs": [
    {
     "name": "stdout",
     "output_type": "stream",
     "text": [
      "11 is not present in the list\n"
     ]
    }
   ],
   "source": [
    "if 11 in t: #check if 11 is present in the list\n",
    "    print('11 is present in the list')\n",
    "else:\n",
    "    print('11 is not present in the list')"
   ]
  },
  {
   "cell_type": "markdown",
   "id": "758c8709-3471-4173-8f9d-21d8ad4bb7a5",
   "metadata": {},
   "source": [
    "index position"
   ]
  },
  {
   "cell_type": "code",
   "execution_count": 38,
   "id": "1674138d-6004-4a5c-ba8d-3e69696e6219",
   "metadata": {},
   "outputs": [
    {
     "data": {
      "text/plain": [
       "(1, 2, 3, 4, 5, 6, 7, 8, 9, 10)"
      ]
     },
     "execution_count": 38,
     "metadata": {},
     "output_type": "execute_result"
    }
   ],
   "source": [
    "t"
   ]
  },
  {
   "cell_type": "code",
   "execution_count": 39,
   "id": "947c1007-ca4e-46fb-abff-96b7b6ba35ed",
   "metadata": {},
   "outputs": [
    {
     "data": {
      "text/plain": [
       "0"
      ]
     },
     "execution_count": 39,
     "metadata": {},
     "output_type": "execute_result"
    }
   ],
   "source": [
    "t.index(1) #index of first element equal to one"
   ]
  },
  {
   "cell_type": "code",
   "execution_count": 40,
   "id": "82848d24-b633-4059-9108-eb8cacb3cd22",
   "metadata": {},
   "outputs": [
    {
     "data": {
      "text/plain": [
       "4"
      ]
     },
     "execution_count": 40,
     "metadata": {},
     "output_type": "execute_result"
    }
   ],
   "source": [
    "t.index(5)"
   ]
  },
  {
   "cell_type": "markdown",
   "id": "2e8c6da2-ae15-4bd8-bfff-eb3c1c2c6126",
   "metadata": {},
   "source": [
    "Sorting"
   ]
  },
  {
   "cell_type": "code",
   "execution_count": 42,
   "id": "036bb09a-d59b-46f3-802d-f2d6b77a162c",
   "metadata": {},
   "outputs": [],
   "source": [
    "t9 = (11,2,44,6,98)"
   ]
  },
  {
   "cell_type": "code",
   "execution_count": 43,
   "id": "5334df46-4e63-44a1-854b-5edfd84e4017",
   "metadata": {},
   "outputs": [
    {
     "data": {
      "text/plain": [
       "(11, 2, 44, 6, 98)"
      ]
     },
     "execution_count": 43,
     "metadata": {},
     "output_type": "execute_result"
    }
   ],
   "source": [
    "t9"
   ]
  },
  {
   "cell_type": "code",
   "execution_count": null,
   "id": "08815a11-d91f-4bd7-94ff-60b70a211c4c",
   "metadata": {},
   "outputs": [],
   "source": [
    "sorted(t9) #returns a new sorted list and"
   ]
  }
 ],
 "metadata": {
  "kernelspec": {
   "display_name": "Python [conda env:base] *",
   "language": "python",
   "name": "conda-base-py"
  },
  "language_info": {
   "codemirror_mode": {
    "name": "ipython",
    "version": 3
   },
   "file_extension": ".py",
   "mimetype": "text/x-python",
   "name": "python",
   "nbconvert_exporter": "python",
   "pygments_lexer": "ipython3",
   "version": "3.12.7"
  }
 },
 "nbformat": 4,
 "nbformat_minor": 5
}
